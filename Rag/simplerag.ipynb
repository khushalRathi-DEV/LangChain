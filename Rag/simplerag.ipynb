{
 "cells": [
  {
   "cell_type": "markdown",
   "id": "2a09e289",
   "metadata": {},
   "source": [
    "Data Ingestion"
   ]
  },
  {
   "cell_type": "code",
   "execution_count": 1,
   "id": "c33263bb",
   "metadata": {},
   "outputs": [
    {
     "data": {
      "text/plain": [
       "[Document(metadata={'source': 'sample.txt'}, page_content='Artificial Intelligence (AI) refers to the simulation of human intelligence in machines that are programmed to think and learn like humans. It has various subfields such as machine learning, natural language processing, robotics, and computer vision.\\n\\nMachine learning (ML) is a subset of AI that enables systems to learn from data and improve over time without being explicitly programmed. Supervised, unsupervised, and reinforcement learning are the three main types of ML.\\n\\nNatural Language Processing (NLP) is the branch of AI that deals with the interaction between computers and humans through natural language. NLP enables machines to understand, interpret, and generate human language.\\n\\nOne popular application of NLP is the chatbot, which can simulate conversation with users. These bots are commonly used in customer service, virtual assistants, and help desk systems.\\n\\nAnother key technology in AI is computer vision, which allows machines to interpret and make decisions based on visual data such as images and videos. This is used in facial recognition, medical imaging, and autonomous vehicles.\\n\\nAI is transforming industries such as healthcare, finance, education, and transportation, offering both new opportunities and challenges.\\n')]"
      ]
     },
     "execution_count": 1,
     "metadata": {},
     "output_type": "execute_result"
    }
   ],
   "source": [
    "##DATA INGESTION\n",
    "from langchain_community.document_loaders import TextLoader\n",
    "loader = TextLoader(\"sample.txt\")\n",
    "text_documents = loader.load()\n",
    "text_documents"
   ]
  },
  {
   "cell_type": "code",
   "execution_count": 2,
   "id": "aef27c3e",
   "metadata": {},
   "outputs": [
    {
     "name": "stderr",
     "output_type": "stream",
     "text": [
      "python-dotenv could not parse statement starting at line 1\n",
      "python-dotenv could not parse statement starting at line 6\n"
     ]
    }
   ],
   "source": [
    "import os\n",
    "from dotenv import load_dotenv\n",
    "load_dotenv()\n",
    "\n",
    "os.environ[\"OPENAI_API_KEY\"]=os.getenv(\"OPENAI_API_KEY\")\n",
    "os.environ[\"GROQ_API_KEY\"]=os.getenv(\"GROQ_API_KEY\")\n",
    "os.environ[\"LANGCHAIN_API_KEY\"]=os.getenv(\"LANGCHAIN_API_KEY\")"
   ]
  },
  {
   "cell_type": "code",
   "execution_count": 7,
   "id": "254b7861",
   "metadata": {},
   "outputs": [
    {
     "data": {
      "text/plain": [
       "[Document(metadata={'source': 'https://www.geeksforgeeks.org/java/object-oriented-programming-oops-concept-in-java/'}, page_content='\\nJava OOP(Object Oriented Programming) Concepts\\n\\n\\nBefore Object-Oriented Programming (OOPs), most programs used a procedural approach, where the focus was on writing step-by-step functions. This made it harder to manage and reuse code in large applications.To overcome these limitations, Object-Oriented Programming was introduced. Java is built around OOPs, which helps in organizing code using classes and objects.Key Features of OOP in Java:Structures code into logical units (classes and objects)Keeps related data and methods together (encapsulation)Makes code modular, reusable and scalablePrevents unauthorized access to dataFollows the DRY (Don’t Repeat Yourself) principleCharacteristics of an OOP(Object Oriented Programming) The diagram below demonstrates the Java OOPs ConceptsOOP\\'s concept1. ClassA Class is a user-defined blueprint or prototype from which objects are created. It represents the set of properties or methods that are common to all objects of one type. Using classes, you can create multiple objects with the same behavior instead of writing their code multiple times. In general, class declarations can include these components in order:\\xa0Modifiers: A class can be public or have default access (Refer to this for details).Class name: The class name should begin with the initial letter capitalized by convention.Body: The class body is surrounded by braces, { }.2. ObjectAn Object is a basic unit of Object-Oriented Programming that represents real-life entities. A typical Java program creates many objects, which as you know, interact by invoking methods. The objects are what perform your code, they are the part of your code visible to the viewer/user. An object mainly consists of:\\xa0State: It is represented by the attributes of an object. It also reflects the properties of an object.Behavior: It is represented by the methods of an object. It also reflects the response of an object to other objects.Identity: It is a unique name given to an object that enables it to interact with other objects.Method: A method is a collection of statements that perform some specific task and return the result to the caller.Example:\\nJava\\n\\npublic class Employee {\\n    // Instance variables (non-static)\\n    private String name;\\n    private float salary;\\n\\n    // Constructor\\n    public Employee(String name, float salary) {\\n        this.name = name;\\n        this.salary = salary;\\n    }\\n\\n    // getters method\\n    public String getName() { return name; }\\n    public float getSalary() { return salary; }\\n\\n    // setters method\\n    public void setName(String name) { this.name = name; }\\n    public void setSalary(float salary) { this.salary = salary; }\\n\\n    // Instance method\\n    public void displayDetails() {\\n        System.out.println(\"Employee: \" + name);\\n        System.out.println(\"Salary: \" + salary);\\n    }\\n\\n    public static void main(String[] args) {\\n        Employee emp = new Employee(\"Geek\", 10000.0f);\\n        emp.displayDetails();\\n    }\\n}\\n\\nOutputEmployee: Geek\\nSalary: 10000.0\\nNote: For more information, please refer to the article - Classes and Object.3. AbstractionAbstraction in Java\\xa0is the process of hiding the implementation details and only showing the essential details or features to the user. It allows to focus on what an object does rather than how it does it. The unnecessary details are not displayed to the user.Note: In Java, abstraction is achieved by\\xa0interfaces\\xa0and\\xa0abstract classes. We can achieve 100% abstraction using interfaces.Example:\\nJava\\n\\nabstract class Vehicle {\\n    // Abstract methods (what it can do)\\n    abstract void accelerate();\\n    abstract void brake();\\n    \\n    // Concrete method (common to all vehicles)\\n    void startEngine() {\\n        System.out.println(\"Engine started!\");\\n    }\\n}\\n\\n// Concrete implementation (hidden details)\\nclass Car extends Vehicle {\\n    @Override\\n    void accelerate() {\\n        System.out.println(\"Car: Pressing gas pedal...\");\\n        // Hidden complex logic: fuel injection, gear shifting, etc.\\n    }\\n    \\n    @Override\\n    void brake() {\\n        System.out.println(\"Car: Applying brakes...\");\\n        // Hidden logic: hydraulic pressure, brake pads, etc.\\n    }\\n}\\n\\npublic class Main {\\n    public static void main(String[] args) {\\n        Vehicle myCar = new Car();\\n        myCar.startEngine();  \\n        myCar.accelerate();   \\n        myCar.brake();        \\n    }\\n}\\n\\nNote: To learn more about the Abstraction refer to the Abstraction in Java article4. EncapsulationEncapsulation is defined as the process of wrapping data and the methods into a single unit, typically a class. It is the mechanism that binds together the code and the data. It manipulates. Another way to think about encapsulation is that it is a protective shield that prevents the data from being accessed by the code outside this shield.\\xa0Technically, in encapsulation, the variables or the data in a class is hidden from any other class and can be accessed only through any member function of the class in which they are declared.In encapsulation, the data in a class is hidden from other classes, which is similar to what data-hiding does. So, the terms \"encapsulation\" and \"data-hiding\" are used interchangeably.Encapsulation can be achieved by declaring all the variables in a class as private and writing public methods in the class to set and get the values of the variables.EncapsulationExample:\\nJava\\n\\nclass Employee {\\n    // Private fields (encapsulated data)\\n    private int id;\\n    private String name;\\n\\n    // Setter methods \\n    public void setId(int id) {\\n        this.id = id;\\n    }\\n\\n    public void setName(String name) {\\n        this.name = name;\\n    }\\n\\n    // Getter methods\\n    public int getId() {\\n        return id;\\n    }\\n\\n    public String getName() {\\n        return name;\\n    }\\n}\\n\\npublic class Main {\\n    public static void main(String[] args) {\\n        Employee emp = new Employee();\\n        \\n        // Using setters\\n        emp.setId(101);\\n        emp.setName(\"Geek\");\\n\\n        // Using getters\\n        System.out.println(\"Employee ID: \" + emp.getId());\\n        System.out.println(\"Employee Name: \" + emp.getName());\\n    }\\n}\\n\\nOutputEmployee ID: 101\\nEmployee Name: Geek\\nNote: To learn more about topic refer to Encapsulation in Java article.5. Inheritance\\xa0Inheritance is an important pillar of OOP (Object Oriented Programming). It is the mechanism in Java by which one class is allowed to inherit the features (fields and methods) of another class. We are achieving inheritance by using extends keyword. Inheritance is also known as \"is-a\" relationship.Example: Dog, Cat, Cow can be Derived Class of Animal Base Class.\\xa0InheritanceLet us discuss some frequently used important terminologies:Superclass: The class whose features are inherited is known as superclass (also known as base or parent class).Subclass: The class that inherits the other class is known as subclass (also known as derived or extended or child class). The subclass can add its own fields and methods in addition to the superclass fields and methods.Reusability: Inheritance supports the concept of \"reusability\", i.e. when we want to create a new class and there is already a class that includes some of the code that we want, we can derive our new class from the existing class. By doing this, we are reusing the fields and methods of the existing class.Example:\\nJava\\n\\n// Superclass (Parent)\\nclass Animal {\\n    void eat() {\\n        System.out.println(\"Animal is eating...\");\\n    }\\n\\n    void sleep() {\\n        System.out.println(\"Animal is sleeping...\");\\n    }\\n}\\n\\n// Subclass (Child) - Inherits from Animal\\nclass Dog extends Animal {\\n    void bark() {\\n        System.out.println(\"Dog is barking!\");\\n    }\\n}\\n\\npublic class Main {\\n    public static void main(String[] args) {\\n        Dog myDog = new Dog();\\n\\n        // Inherited methods (from Animal)\\n        myDog.eat();    \\n        myDog.sleep();  \\n\\n        // Child class method\\n        myDog.bark();   \\n    }\\n}\\n\\nOutputAnimal is eating...\\nAnimal is sleeping...\\nDog is barking!\\nNote: To learn more about topic refer to Inheritance in Java article.6. PolymorphismThe word\\xa0polymorphism\\xa0means having\\xa0many forms, and it comes from the Greek words\\xa0poly (many)\\xa0and\\xa0morph (forms), this means one entity can take many forms. In Java, polymorphism allows the same method or object to behave differently based on the context, specially on the project\\'s actual runtime class.PolymorphismTypes of PolymorphismPolymorphism in Java is mainly of 2 types as mentioned below:\\xa0Method OverloadingMethod Overriding\\xa0Method Overloading and Method Overriding1. Method Overloading: Also, known as compile-time polymorphism, is the concept of Polymorphism where more than one method share the same name with different signature(Parameters) in a class. The return type of these methods can or cannot be same.2. Method Overriding: Also, known as run-time polymorphism, is the concept of Polymorphism where method in the child class has the same name, return-type and parameters as in parent class. The child class provides the implementation in the method already written.Below is the implementation of both the concepts:\\nJava\\n\\n// Parent Class\\nclass Parent {\\n    // Overloaded method (compile-time polymorphism)\\n    public void func() {\\n        System.out.println(\"Parent.func()\");\\n    }\\n\\n    // Overloaded method (same name, different parameter)\\n    public void func(int a) {\\n        System.out.println(\"Parent.func(int): \" + a);\\n    }\\n}\\n\\n// Child Class\\nclass Child extends Parent {\\n    // Overrides Parent.func(int) (runtime polymorphism)\\n    @Override\\n    public void func(int a) {\\n        System.out.println(\"Child.func(int): \" + a);\\n    }\\n}\\n\\npublic class Main {\\n    public static void main(String[] args) {\\n        Parent parent = new Parent();\\n        Child child = new Child();\\n        // Dynamic dispatch\\n        Parent polymorphicObj = new Child();  \\n\\n        // Method Overloading (compile-time)\\n        parent.func();       \\n        parent.func(10);    \\n\\n        // Method Overriding (runtime)\\n        child.func(20);     \\n\\n        // Polymorphism in action\\n        polymorphicObj.func(30);  \\n    }\\n}\\n\\nOutputParent.func()\\nParent.func(int): 10\\nChild.func(int): 20\\nChild.func(int): 30\\nAdvantage of OOPs over Procedure-Oriented Programming LanguageObject-oriented programming (OOP) offers several key advantages over procedural programming:By using objects and classes, you can create reusable components, leading to less duplication and more efficient development.It provides a clear and logical structure, making the code easier to understand, maintain, and debug.OOP supports the DRY (Don\\'t Repeat Yourself) principle.This principle encourages minimizing code repetition, leading to cleaner, more maintainable code. Common functionalities are placed in a single location and reused, reducing redundancy.By reusing existing code and creating modular components, OOP allows for quicker and more efficient application developmentDisadvantages of OOPsOOP has concepts like classes, objects, inheritance etc. For beginners, this can be confusing and takes time to learn.If we write a small program, using OOP can feel too heavy. We might have to write more code than needed just to follow the OOP structure.The code is divided into different classes and layers, so in this, finding and fixing bugs can sometimes take more time.OOP creates a lot of objects, so it can use more memory compared to simple programs written in a procedural way. \\n\\n\\n\\n\\n\\n\\n\\n\\n\\n\\nIntroduction to Object Oriented Programming (OOPs)\\n\\n\\n\\n\\n\\nIntroduction to Object Oriented Programming (OOPs)\\n\\n\\n\\nClass and Objects in Java\\n\\n\\n\\nEncapsulation with Java\\n\\n \\n\\n\\n\\n\\n\\r\\n        Comment\\r\\n    More infoCampus Training Program \\n\\n\\n\\n\\n\\n\\nR\\n\\n\\n\\n\\n \\n\\nRishabhPrabhu \\n\\n\\n\\n\\n\\n Follow \\n\\n\\n\\n\\n\\n\\n\\n\\n\\n\\n\\nImprove\\n\\n\\n\\n\\n\\n\\nArticle Tags : \\n\\n\\nJava\\n\\n\\njava-basics\\n\\n\\nJava-Object Oriented\\n \\n\\n\\nPractice Tags : \\n\\nJava \\n\\n\\n\\n\\n\\n\\n\\n\\nLike\\n\\n\\n\\n\\n')]"
      ]
     },
     "execution_count": 7,
     "metadata": {},
     "output_type": "execute_result"
    }
   ],
   "source": [
    "## web based loader\n",
    "from langchain_community.document_loaders import WebBaseLoader\n",
    "import bs4\n",
    "os.environ[\"USER_AGENT\"] = \"Mozilla/5.0 (Windows NT 10.0; Win64; x64)\"\n",
    "##load,chunk and index the content of the website\n",
    "\n",
    "loader = WebBaseLoader( web_paths=[\"https://www.geeksforgeeks.org/java/object-oriented-programming-oops-concept-in-java/\"],\n",
    "                      bs_kwargs=dict(parse_only=bs4.SoupStrainer(\n",
    "                        class_=(\"article-title\",\"text\")\n",
    "                      )),)\n",
    "\n",
    "text_documents = loader.load()\n",
    "text_documents"
   ]
  },
  {
   "cell_type": "code",
   "execution_count": 10,
   "id": "19776d73",
   "metadata": {},
   "outputs": [
    {
     "data": {
      "text/plain": [
       "[Document(metadata={'producer': 'GPL Ghostscript 9.56.1', 'creator': 'pdf-lib (https://github.com/Hopding/pdf-lib)', 'creationdate': \"D:20250821052712Z00'00'\", 'moddate': \"D:20250821052712Z00'00'\", 'source': 'sample_pdf.pdf', 'total_pages': 10, 'page': 0, 'page_label': '1'}, page_content='AI-Powered Database \\nCapacity Planning & \\nPerformance Forecasting\\nEmpowering Database Administrators and SREs with proactive \\ninsights for optimal performance.'),\n",
       " Document(metadata={'producer': 'GPL Ghostscript 9.56.1', 'creator': 'pdf-lib (https://github.com/Hopding/pdf-lib)', 'creationdate': \"D:20250821052712Z00'00'\", 'moddate': \"D:20250821052712Z00'00'\", 'source': 'sample_pdf.pdf', 'total_pages': 10, 'page': 1, 'page_label': '2'}, page_content='Chapter 1\\nThe Hidden Challenges of \\nDatabase Growth\\nDatabases are the heart of modern applications, but their continuous growth can lead to subtle, yet critical, \\nperformance problems. What starts as a small issue can quickly escalate into widespread slowdowns and outages if not \\naddressed proactively.\\nBloated Tables\\nUnused space accumulates, making tables larger \\nand slower to process. This often stems from \\nneglected vacuuming processes.\\nOutdated Statistics\\nDatabase query optimizers rely on accurate statistics. \\nWhen these are outdated, queries take inefficient \\npaths, leading to significant delays.\\nInefficient Indexing\\nIndexes are crucial for fast data retrieval. Poorly \\ndesigned or outdated indexes can turn quick \\nsearches into agonizingly slow operations.\\nUnpredictable Spikes\\nSudden surges in workload, often driven by external \\nevents, can overwhelm capacity and cause \\nunexpected performance degradation.'),\n",
       " Document(metadata={'producer': 'GPL Ghostscript 9.56.1', 'creator': 'pdf-lib (https://github.com/Hopding/pdf-lib)', 'creationdate': \"D:20250821052712Z00'00'\", 'moddate': \"D:20250821052712Z00'00'\", 'source': 'sample_pdf.pdf', 'total_pages': 10, 'page': 2, 'page_label': '3'}, page_content=\"Chapter 2\\nOur AI-Powered Solution\\nWe've developed an AI-powered database health and \\ncapacity planning tool designed to bring predictability to \\ndatabase management. It goes beyond reactive \\nmeasures, providing a \\nproactive solution to identify and \\naddress potential issues before they impact \\nperformance.\\nHistorical Data Collection: Gathers extensive \\ndatabase metrics like disk usage, inserts, updates, \\ndeletes, and vacuum history.\\nExternal Factor Integration: Incorporates real-world \\nevents, from economic shifts to natural disasters, to \\ncontextualize and refine predictions.\\nAdvanced Forecasting: Utilizes LSTM (Long Short-\\nTerm Memory) neural networks to predict usage \\npatterns up to 12 months in advance.\\nIntuitive Visualizations: Presents complex data as \\nclear time-series graphs, empowering DBAs with \\nactionable insights.\"),\n",
       " Document(metadata={'producer': 'GPL Ghostscript 9.56.1', 'creator': 'pdf-lib (https://github.com/Hopding/pdf-lib)', 'creationdate': \"D:20250821052712Z00'00'\", 'moddate': \"D:20250821052712Z00'00'\", 'source': 'sample_pdf.pdf', 'total_pages': 10, 'page': 3, 'page_label': '4'}, page_content='Chapter 3\\nCore Capabilities\\nOur tool provides specialized forecasting to keep your database in peak condition.\\nVacuuming Forecasting\\nPredicts precisely when tables will \\nneed vacuuming, preventing \\nbloat and maintaining optimal \\nperformance.\\nWorkload Forecasting\\nForecasts future disk growth, \\nanticipated inserts, and query \\nload, enabling precise capacity \\nplanning.\\nProactive Alerts\\nDelivers early warnings about \\npotential performance \\nbottlenecks before they impact \\nusers.\\nIndex & Stats Management\\nAlerts DBAs when statistics are outdated or indexes \\nbecome inefficient, suggesting timely optimizations.\\nExternal Factor Integration\\nAdjusts forecasts to account for real-world events that \\ncould cause unusual workload spikes.'),\n",
       " Document(metadata={'producer': 'GPL Ghostscript 9.56.1', 'creator': 'pdf-lib (https://github.com/Hopding/pdf-lib)', 'creationdate': \"D:20250821052712Z00'00'\", 'moddate': \"D:20250821052712Z00'00'\", 'source': 'sample_pdf.pdf', 'total_pages': 10, 'page': 4, 'page_label': '5'}, page_content='Chapter 4\\nThe Workflow: From Data to \\nInsight\\nOur system processes information through a streamlined, intelligent pipeline.\\n1. Data Ingestion\\nCollects comprehensive database metrics and relevant external factors.\\n2. Preprocessing\\nCleans, structures, and prepares raw data for analysis.\\n3. Modeling with LSTM\\nTrains the AI model on historical patterns to learn complex dependencies.\\n4. Prediction & Forecasting\\nGenerates precise 12-month growth forecasts for various metrics.\\n5. Visualization\\nPresents forecasts as interactive time-series graphs for clear insights.\\n6. Alerts & Recommendations\\nSuggests timely actions like vacuuming, reindexing, or stats updates.'),\n",
       " Document(metadata={'producer': 'GPL Ghostscript 9.56.1', 'creator': 'pdf-lib (https://github.com/Hopding/pdf-lib)', 'creationdate': \"D:20250821052712Z00'00'\", 'moddate': \"D:20250821052712Z00'00'\", 'source': 'sample_pdf.pdf', 'total_pages': 10, 'page': 5, 'page_label': '6'}, page_content='Chapter 5\\nWhy LSTM for Database \\nForecasting?\\nLong Short-Term Memory (LSTM) networks are a specialized \\ntype of recurrent neural network (RNN) that excels with \\nsequential data, making them ideal for time-series forecasting \\nin database capacity planning.\\nTime-Series Expertise: LSTMs are specifically designed to \\nprocess and predict data sequences, like database growth \\nover time.\\nLong-Term Memory: They effectively capture and \\nremember long-term dependencies and patterns in \\nworkload, unlike simpler models that might forget past \\ntrends.\\nAccuracy with Irregularities: Crucially, LSTMs can handle \\nirregular growth, seasonal patterns, and unexpected spikes \\nmore accurately than traditional linear models.'),\n",
       " Document(metadata={'producer': 'GPL Ghostscript 9.56.1', 'creator': 'pdf-lib (https://github.com/Hopding/pdf-lib)', 'creationdate': \"D:20250821052712Z00'00'\", 'moddate': \"D:20250821052712Z00'00'\", 'source': 'sample_pdf.pdf', 'total_pages': 10, 'page': 6, 'page_label': '7'}, page_content='Chapter 6\\nDemo Snapshot: Insights at a \\nGlance\\nSee how our system translates complex data into actionable intelligence, showing both historical trends and future \\npredictions.\\nDisk Usage & Forecasted Growth\\nAlerts & Recommendations\\nVacuuming: \"Vacuum needed \\non \\'user_sessions\\' table in 5 \\ndays.\"\\nReindexing: \"Reindex \\nrecommended for \\'products\\' \\ntable (30% bloat).\"\\nStatistics: \"Risk of outdated \\nstatistics for \\'order_items\\' this \\nWednesday.\"\\nExternal Factors: \"Significant \\nspike in queries predicted \\naround upcoming election \\ndate.\"'),\n",
       " Document(metadata={'producer': 'GPL Ghostscript 9.56.1', 'creator': 'pdf-lib (https://github.com/Hopding/pdf-lib)', 'creationdate': \"D:20250821052712Z00'00'\", 'moddate': \"D:20250821052712Z00'00'\", 'source': 'sample_pdf.pdf', 'total_pages': 10, 'page': 7, 'page_label': '8'}, page_content='Chapter 7\\nTransforming Database \\nManagement\\nOur AI-powered solution delivers tangible benefits that revolutionize how you manage your databases.\\nProactive Maintenance\\nShifts from reactive firefighting \\nto intelligent, preventative \\naction, minimizing downtime.\\nBetter Capacity \\nPlanning\\nAvoids sudden storage issues \\nand resource bottlenecks \\nwith accurate future \\nprojections.\\nOptimized Performance\\nPrevents costly slowdowns and \\nensures consistent, peak \\ndatabase performance.\\nDBA Efficiency\\nEmpowers DBAs by automating monitoring and \\nalert generation, freeing up valuable time.\\nFuture-Ready Insights\\nIntegrates real-world events into predictions, \\npreparing you for any unexpected challenges.'),\n",
       " Document(metadata={'producer': 'GPL Ghostscript 9.56.1', 'creator': 'pdf-lib (https://github.com/Hopding/pdf-lib)', 'creationdate': \"D:20250821052712Z00'00'\", 'moddate': \"D:20250821052712Z00'00'\", 'source': 'sample_pdf.pdf', 'total_pages': 10, 'page': 8, 'page_label': '9'}, page_content='Chapter 8\\nConclusion: Your Database, Future-\\nProofed\\nOur AI-powered tool acts as both a vigilant health monitor and a reliable crystal ball for your database infrastructure.\\nBy leveraging advanced AI and comprehensive data \\nanalysis, organizations can finally move beyond the \\ntraditional reactive approach to database management.\\nThis enables you to:\\nPrevent Slowdowns: Identify and resolve issues \\nbefore they impact user experience.\\nAvoid Surprises: Forecast workloads and external \\nimpacts to mitigate risks.\\nPlan Resources Intelligently: Optimize \\ninfrastructure and budget based on accurate \\nfuture predictions.'),\n",
       " Document(metadata={'producer': 'GPL Ghostscript 9.56.1', 'creator': 'pdf-lib (https://github.com/Hopding/pdf-lib)', 'creationdate': \"D:20250821052712Z00'00'\", 'moddate': \"D:20250821052712Z00'00'\", 'source': 'sample_pdf.pdf', 'total_pages': 10, 'page': 9, 'page_label': '10'}, page_content='Ready to Transform Y our \\nDatabase Management?\\nContact us today for a personalized demo and discover \\nhow AI can empower your team.\\nRequest a Demo Learn More')]"
      ]
     },
     "execution_count": 10,
     "metadata": {},
     "output_type": "execute_result"
    }
   ],
   "source": [
    "##pdf reader\n",
    "from langchain_community.document_loaders import PyPDFLoader\n",
    "loader = PyPDFLoader(\"sample_pdf.pdf\")\n",
    "\n",
    "docs = loader.load()\n",
    "docs\n",
    "\n"
   ]
  },
  {
   "cell_type": "markdown",
   "id": "937803c2",
   "metadata": {},
   "source": [
    "Transforming(Converting data in smaller chunks)"
   ]
  },
  {
   "cell_type": "code",
   "execution_count": 11,
   "id": "6d9a73b2",
   "metadata": {},
   "outputs": [
    {
     "data": {
      "text/plain": [
       "[Document(metadata={'producer': 'GPL Ghostscript 9.56.1', 'creator': 'pdf-lib (https://github.com/Hopding/pdf-lib)', 'creationdate': \"D:20250821052712Z00'00'\", 'moddate': \"D:20250821052712Z00'00'\", 'source': 'sample_pdf.pdf', 'total_pages': 10, 'page': 0, 'page_label': '1'}, page_content='AI-Powered Database \\nCapacity Planning & \\nPerformance Forecasting\\nEmpowering Database Administrators and SREs with proactive \\ninsights for optimal performance.'),\n",
       " Document(metadata={'producer': 'GPL Ghostscript 9.56.1', 'creator': 'pdf-lib (https://github.com/Hopding/pdf-lib)', 'creationdate': \"D:20250821052712Z00'00'\", 'moddate': \"D:20250821052712Z00'00'\", 'source': 'sample_pdf.pdf', 'total_pages': 10, 'page': 1, 'page_label': '2'}, page_content='Chapter 1\\nThe Hidden Challenges of \\nDatabase Growth\\nDatabases are the heart of modern applications, but their continuous growth can lead to subtle, yet critical, \\nperformance problems. What starts as a small issue can quickly escalate into widespread slowdowns and outages if not \\naddressed proactively.\\nBloated Tables\\nUnused space accumulates, making tables larger \\nand slower to process. This often stems from \\nneglected vacuuming processes.\\nOutdated Statistics\\nDatabase query optimizers rely on accurate statistics. \\nWhen these are outdated, queries take inefficient \\npaths, leading to significant delays.\\nInefficient Indexing\\nIndexes are crucial for fast data retrieval. Poorly \\ndesigned or outdated indexes can turn quick \\nsearches into agonizingly slow operations.\\nUnpredictable Spikes\\nSudden surges in workload, often driven by external \\nevents, can overwhelm capacity and cause \\nunexpected performance degradation.'),\n",
       " Document(metadata={'producer': 'GPL Ghostscript 9.56.1', 'creator': 'pdf-lib (https://github.com/Hopding/pdf-lib)', 'creationdate': \"D:20250821052712Z00'00'\", 'moddate': \"D:20250821052712Z00'00'\", 'source': 'sample_pdf.pdf', 'total_pages': 10, 'page': 2, 'page_label': '3'}, page_content=\"Chapter 2\\nOur AI-Powered Solution\\nWe've developed an AI-powered database health and \\ncapacity planning tool designed to bring predictability to \\ndatabase management. It goes beyond reactive \\nmeasures, providing a \\nproactive solution to identify and \\naddress potential issues before they impact \\nperformance.\\nHistorical Data Collection: Gathers extensive \\ndatabase metrics like disk usage, inserts, updates, \\ndeletes, and vacuum history.\\nExternal Factor Integration: Incorporates real-world \\nevents, from economic shifts to natural disasters, to \\ncontextualize and refine predictions.\\nAdvanced Forecasting: Utilizes LSTM (Long Short-\\nTerm Memory) neural networks to predict usage \\npatterns up to 12 months in advance.\\nIntuitive Visualizations: Presents complex data as \\nclear time-series graphs, empowering DBAs with \\nactionable insights.\"),\n",
       " Document(metadata={'producer': 'GPL Ghostscript 9.56.1', 'creator': 'pdf-lib (https://github.com/Hopding/pdf-lib)', 'creationdate': \"D:20250821052712Z00'00'\", 'moddate': \"D:20250821052712Z00'00'\", 'source': 'sample_pdf.pdf', 'total_pages': 10, 'page': 3, 'page_label': '4'}, page_content='Chapter 3\\nCore Capabilities\\nOur tool provides specialized forecasting to keep your database in peak condition.\\nVacuuming Forecasting\\nPredicts precisely when tables will \\nneed vacuuming, preventing \\nbloat and maintaining optimal \\nperformance.\\nWorkload Forecasting\\nForecasts future disk growth, \\nanticipated inserts, and query \\nload, enabling precise capacity \\nplanning.\\nProactive Alerts\\nDelivers early warnings about \\npotential performance \\nbottlenecks before they impact \\nusers.\\nIndex & Stats Management\\nAlerts DBAs when statistics are outdated or indexes \\nbecome inefficient, suggesting timely optimizations.\\nExternal Factor Integration\\nAdjusts forecasts to account for real-world events that \\ncould cause unusual workload spikes.'),\n",
       " Document(metadata={'producer': 'GPL Ghostscript 9.56.1', 'creator': 'pdf-lib (https://github.com/Hopding/pdf-lib)', 'creationdate': \"D:20250821052712Z00'00'\", 'moddate': \"D:20250821052712Z00'00'\", 'source': 'sample_pdf.pdf', 'total_pages': 10, 'page': 4, 'page_label': '5'}, page_content='Chapter 4\\nThe Workflow: From Data to \\nInsight\\nOur system processes information through a streamlined, intelligent pipeline.\\n1. Data Ingestion\\nCollects comprehensive database metrics and relevant external factors.\\n2. Preprocessing\\nCleans, structures, and prepares raw data for analysis.\\n3. Modeling with LSTM\\nTrains the AI model on historical patterns to learn complex dependencies.\\n4. Prediction & Forecasting\\nGenerates precise 12-month growth forecasts for various metrics.\\n5. Visualization\\nPresents forecasts as interactive time-series graphs for clear insights.\\n6. Alerts & Recommendations\\nSuggests timely actions like vacuuming, reindexing, or stats updates.')]"
      ]
     },
     "execution_count": 11,
     "metadata": {},
     "output_type": "execute_result"
    }
   ],
   "source": [
    "from langchain_text_splitters import RecursiveCharacterTextSplitter\n",
    "text_splitter = RecursiveCharacterTextSplitter(chunk_size=1000, chunk_overlap=200)\n",
    "documents = text_splitter.split_documents(docs)\n",
    "documents[:5]"
   ]
  },
  {
   "cell_type": "code",
   "execution_count": 12,
   "id": "3bcd0632",
   "metadata": {},
   "outputs": [
    {
     "name": "stderr",
     "output_type": "stream",
     "text": [
      "C:\\Users\\user\\AppData\\Local\\Temp\\ipykernel_18904\\3880645925.py:4: LangChainDeprecationWarning: The class `OpenAIEmbeddings` was deprecated in LangChain 0.0.9 and will be removed in 1.0. An updated version of the class exists in the :class:`~langchain-openai package and should be used instead. To use it run `pip install -U :class:`~langchain-openai` and import as `from :class:`~langchain_openai import OpenAIEmbeddings``.\n",
      "  db = Chroma.from_documents(documents[:20],OpenAIEmbeddings())\n"
     ]
    },
    {
     "ename": "RateLimitError",
     "evalue": "Error code: 429 - {'error': {'message': 'You exceeded your current quota, please check your plan and billing details. For more information on this error, read the docs: https://platform.openai.com/docs/guides/error-codes/api-errors.', 'type': 'insufficient_quota', 'param': None, 'code': 'insufficient_quota'}}",
     "output_type": "error",
     "traceback": [
      "\u001b[1;31m---------------------------------------------------------------------------\u001b[0m",
      "\u001b[1;31mRateLimitError\u001b[0m                            Traceback (most recent call last)",
      "Cell \u001b[1;32mIn[12], line 4\u001b[0m\n\u001b[0;32m      2\u001b[0m \u001b[38;5;28;01mfrom\u001b[39;00m\u001b[38;5;250m \u001b[39m\u001b[38;5;21;01mlangchain_community\u001b[39;00m\u001b[38;5;21;01m.\u001b[39;00m\u001b[38;5;21;01membeddings\u001b[39;00m\u001b[38;5;250m \u001b[39m\u001b[38;5;28;01mimport\u001b[39;00m OpenAIEmbeddings\n\u001b[0;32m      3\u001b[0m \u001b[38;5;28;01mfrom\u001b[39;00m\u001b[38;5;250m \u001b[39m\u001b[38;5;21;01mlangchain_community\u001b[39;00m\u001b[38;5;21;01m.\u001b[39;00m\u001b[38;5;21;01mvectorstores\u001b[39;00m\u001b[38;5;250m \u001b[39m\u001b[38;5;28;01mimport\u001b[39;00m Chroma\n\u001b[1;32m----> 4\u001b[0m db \u001b[38;5;241m=\u001b[39m \u001b[43mChroma\u001b[49m\u001b[38;5;241;43m.\u001b[39;49m\u001b[43mfrom_documents\u001b[49m\u001b[43m(\u001b[49m\u001b[43mdocuments\u001b[49m\u001b[43m[\u001b[49m\u001b[43m:\u001b[49m\u001b[38;5;241;43m20\u001b[39;49m\u001b[43m]\u001b[49m\u001b[43m,\u001b[49m\u001b[43mOpenAIEmbeddings\u001b[49m\u001b[43m(\u001b[49m\u001b[43m)\u001b[49m\u001b[43m)\u001b[49m\n",
      "File \u001b[1;32md:\\Anaconda3\\envs\\myenv\\lib\\site-packages\\langchain_community\\vectorstores\\chroma.py:887\u001b[0m, in \u001b[0;36mChroma.from_documents\u001b[1;34m(cls, documents, embedding, ids, collection_name, persist_directory, client_settings, client, collection_metadata, **kwargs)\u001b[0m\n\u001b[0;32m    885\u001b[0m texts \u001b[38;5;241m=\u001b[39m [doc\u001b[38;5;241m.\u001b[39mpage_content \u001b[38;5;28;01mfor\u001b[39;00m doc \u001b[38;5;129;01min\u001b[39;00m documents]\n\u001b[0;32m    886\u001b[0m metadatas \u001b[38;5;241m=\u001b[39m [doc\u001b[38;5;241m.\u001b[39mmetadata \u001b[38;5;28;01mfor\u001b[39;00m doc \u001b[38;5;129;01min\u001b[39;00m documents]\n\u001b[1;32m--> 887\u001b[0m \u001b[38;5;28;01mreturn\u001b[39;00m \u001b[38;5;28mcls\u001b[39m\u001b[38;5;241m.\u001b[39mfrom_texts(\n\u001b[0;32m    888\u001b[0m     texts\u001b[38;5;241m=\u001b[39mtexts,\n\u001b[0;32m    889\u001b[0m     embedding\u001b[38;5;241m=\u001b[39membedding,\n\u001b[0;32m    890\u001b[0m     metadatas\u001b[38;5;241m=\u001b[39mmetadatas,\n\u001b[0;32m    891\u001b[0m     ids\u001b[38;5;241m=\u001b[39mids,\n\u001b[0;32m    892\u001b[0m     collection_name\u001b[38;5;241m=\u001b[39mcollection_name,\n\u001b[0;32m    893\u001b[0m     persist_directory\u001b[38;5;241m=\u001b[39mpersist_directory,\n\u001b[0;32m    894\u001b[0m     client_settings\u001b[38;5;241m=\u001b[39mclient_settings,\n\u001b[0;32m    895\u001b[0m     client\u001b[38;5;241m=\u001b[39mclient,\n\u001b[0;32m    896\u001b[0m     collection_metadata\u001b[38;5;241m=\u001b[39mcollection_metadata,\n\u001b[0;32m    897\u001b[0m     \u001b[38;5;241m*\u001b[39m\u001b[38;5;241m*\u001b[39mkwargs,\n\u001b[0;32m    898\u001b[0m )\n",
      "File \u001b[1;32md:\\Anaconda3\\envs\\myenv\\lib\\site-packages\\langchain_community\\vectorstores\\chroma.py:843\u001b[0m, in \u001b[0;36mChroma.from_texts\u001b[1;34m(cls, texts, embedding, metadatas, ids, collection_name, persist_directory, client_settings, client, collection_metadata, **kwargs)\u001b[0m\n\u001b[0;32m    835\u001b[0m     \u001b[38;5;28;01mfrom\u001b[39;00m\u001b[38;5;250m \u001b[39m\u001b[38;5;21;01mchromadb\u001b[39;00m\u001b[38;5;21;01m.\u001b[39;00m\u001b[38;5;21;01mutils\u001b[39;00m\u001b[38;5;21;01m.\u001b[39;00m\u001b[38;5;21;01mbatch_utils\u001b[39;00m\u001b[38;5;250m \u001b[39m\u001b[38;5;28;01mimport\u001b[39;00m create_batches\n\u001b[0;32m    837\u001b[0m     \u001b[38;5;28;01mfor\u001b[39;00m batch \u001b[38;5;129;01min\u001b[39;00m create_batches(\n\u001b[0;32m    838\u001b[0m         api\u001b[38;5;241m=\u001b[39mchroma_collection\u001b[38;5;241m.\u001b[39m_client,\n\u001b[0;32m    839\u001b[0m         ids\u001b[38;5;241m=\u001b[39mids,\n\u001b[0;32m    840\u001b[0m         metadatas\u001b[38;5;241m=\u001b[39mmetadatas,\n\u001b[0;32m    841\u001b[0m         documents\u001b[38;5;241m=\u001b[39mtexts,\n\u001b[0;32m    842\u001b[0m     ):\n\u001b[1;32m--> 843\u001b[0m         \u001b[43mchroma_collection\u001b[49m\u001b[38;5;241;43m.\u001b[39;49m\u001b[43madd_texts\u001b[49m\u001b[43m(\u001b[49m\n\u001b[0;32m    844\u001b[0m \u001b[43m            \u001b[49m\u001b[43mtexts\u001b[49m\u001b[38;5;241;43m=\u001b[39;49m\u001b[43mbatch\u001b[49m\u001b[43m[\u001b[49m\u001b[38;5;241;43m3\u001b[39;49m\u001b[43m]\u001b[49m\u001b[43m \u001b[49m\u001b[38;5;28;43;01mif\u001b[39;49;00m\u001b[43m \u001b[49m\u001b[43mbatch\u001b[49m\u001b[43m[\u001b[49m\u001b[38;5;241;43m3\u001b[39;49m\u001b[43m]\u001b[49m\u001b[43m \u001b[49m\u001b[38;5;28;43;01melse\u001b[39;49;00m\u001b[43m \u001b[49m\u001b[43m[\u001b[49m\u001b[43m]\u001b[49m\u001b[43m,\u001b[49m\n\u001b[0;32m    845\u001b[0m \u001b[43m            \u001b[49m\u001b[43mmetadatas\u001b[49m\u001b[38;5;241;43m=\u001b[39;49m\u001b[43mbatch\u001b[49m\u001b[43m[\u001b[49m\u001b[38;5;241;43m2\u001b[39;49m\u001b[43m]\u001b[49m\u001b[43m \u001b[49m\u001b[38;5;28;43;01mif\u001b[39;49;00m\u001b[43m \u001b[49m\u001b[43mbatch\u001b[49m\u001b[43m[\u001b[49m\u001b[38;5;241;43m2\u001b[39;49m\u001b[43m]\u001b[49m\u001b[43m \u001b[49m\u001b[38;5;28;43;01melse\u001b[39;49;00m\u001b[43m \u001b[49m\u001b[38;5;28;43;01mNone\u001b[39;49;00m\u001b[43m,\u001b[49m\n\u001b[0;32m    846\u001b[0m \u001b[43m            \u001b[49m\u001b[43mids\u001b[49m\u001b[38;5;241;43m=\u001b[39;49m\u001b[43mbatch\u001b[49m\u001b[43m[\u001b[49m\u001b[38;5;241;43m0\u001b[39;49m\u001b[43m]\u001b[49m\u001b[43m,\u001b[49m\n\u001b[0;32m    847\u001b[0m \u001b[43m        \u001b[49m\u001b[43m)\u001b[49m\n\u001b[0;32m    848\u001b[0m \u001b[38;5;28;01melse\u001b[39;00m:\n\u001b[0;32m    849\u001b[0m     chroma_collection\u001b[38;5;241m.\u001b[39madd_texts(texts\u001b[38;5;241m=\u001b[39mtexts, metadatas\u001b[38;5;241m=\u001b[39mmetadatas, ids\u001b[38;5;241m=\u001b[39mids)\n",
      "File \u001b[1;32md:\\Anaconda3\\envs\\myenv\\lib\\site-packages\\langchain_community\\vectorstores\\chroma.py:277\u001b[0m, in \u001b[0;36mChroma.add_texts\u001b[1;34m(self, texts, metadatas, ids, **kwargs)\u001b[0m\n\u001b[0;32m    275\u001b[0m texts \u001b[38;5;241m=\u001b[39m \u001b[38;5;28mlist\u001b[39m(texts)\n\u001b[0;32m    276\u001b[0m \u001b[38;5;28;01mif\u001b[39;00m \u001b[38;5;28mself\u001b[39m\u001b[38;5;241m.\u001b[39m_embedding_function \u001b[38;5;129;01mis\u001b[39;00m \u001b[38;5;129;01mnot\u001b[39;00m \u001b[38;5;28;01mNone\u001b[39;00m:\n\u001b[1;32m--> 277\u001b[0m     embeddings \u001b[38;5;241m=\u001b[39m \u001b[38;5;28;43mself\u001b[39;49m\u001b[38;5;241;43m.\u001b[39;49m\u001b[43m_embedding_function\u001b[49m\u001b[38;5;241;43m.\u001b[39;49m\u001b[43membed_documents\u001b[49m\u001b[43m(\u001b[49m\u001b[43mtexts\u001b[49m\u001b[43m)\u001b[49m\n\u001b[0;32m    278\u001b[0m \u001b[38;5;28;01mif\u001b[39;00m metadatas:\n\u001b[0;32m    279\u001b[0m     \u001b[38;5;66;03m# fill metadatas with empty dicts if somebody\u001b[39;00m\n\u001b[0;32m    280\u001b[0m     \u001b[38;5;66;03m# did not specify metadata for all texts\u001b[39;00m\n\u001b[0;32m    281\u001b[0m     length_diff \u001b[38;5;241m=\u001b[39m \u001b[38;5;28mlen\u001b[39m(texts) \u001b[38;5;241m-\u001b[39m \u001b[38;5;28mlen\u001b[39m(metadatas)\n",
      "File \u001b[1;32md:\\Anaconda3\\envs\\myenv\\lib\\site-packages\\langchain_community\\embeddings\\openai.py:671\u001b[0m, in \u001b[0;36mOpenAIEmbeddings.embed_documents\u001b[1;34m(self, texts, chunk_size)\u001b[0m\n\u001b[0;32m    668\u001b[0m \u001b[38;5;66;03m# NOTE: to keep things simple, we assume the list may contain texts longer\u001b[39;00m\n\u001b[0;32m    669\u001b[0m \u001b[38;5;66;03m#       than the maximum context and use length-safe embedding function.\u001b[39;00m\n\u001b[0;32m    670\u001b[0m engine \u001b[38;5;241m=\u001b[39m cast(\u001b[38;5;28mstr\u001b[39m, \u001b[38;5;28mself\u001b[39m\u001b[38;5;241m.\u001b[39mdeployment)\n\u001b[1;32m--> 671\u001b[0m \u001b[38;5;28;01mreturn\u001b[39;00m \u001b[38;5;28;43mself\u001b[39;49m\u001b[38;5;241;43m.\u001b[39;49m\u001b[43m_get_len_safe_embeddings\u001b[49m\u001b[43m(\u001b[49m\n\u001b[0;32m    672\u001b[0m \u001b[43m    \u001b[49m\u001b[43mtexts\u001b[49m\u001b[43m,\u001b[49m\u001b[43m \u001b[49m\u001b[43mengine\u001b[49m\u001b[38;5;241;43m=\u001b[39;49m\u001b[43mengine\u001b[49m\u001b[43m,\u001b[49m\u001b[43m \u001b[49m\u001b[43mchunk_size\u001b[49m\u001b[38;5;241;43m=\u001b[39;49m\u001b[43mchunk_size\u001b[49m\n\u001b[0;32m    673\u001b[0m \u001b[43m\u001b[49m\u001b[43m)\u001b[49m\n",
      "File \u001b[1;32md:\\Anaconda3\\envs\\myenv\\lib\\site-packages\\langchain_community\\embeddings\\openai.py:497\u001b[0m, in \u001b[0;36mOpenAIEmbeddings._get_len_safe_embeddings\u001b[1;34m(self, texts, engine, chunk_size)\u001b[0m\n\u001b[0;32m    495\u001b[0m batched_embeddings: List[List[\u001b[38;5;28mfloat\u001b[39m]] \u001b[38;5;241m=\u001b[39m []\n\u001b[0;32m    496\u001b[0m \u001b[38;5;28;01mfor\u001b[39;00m i \u001b[38;5;129;01min\u001b[39;00m _iter:\n\u001b[1;32m--> 497\u001b[0m     response \u001b[38;5;241m=\u001b[39m embed_with_retry(\n\u001b[0;32m    498\u001b[0m         \u001b[38;5;28mself\u001b[39m,\n\u001b[0;32m    499\u001b[0m         \u001b[38;5;28minput\u001b[39m\u001b[38;5;241m=\u001b[39mtokens[i : i \u001b[38;5;241m+\u001b[39m _chunk_size],\n\u001b[0;32m    500\u001b[0m         \u001b[38;5;241m*\u001b[39m\u001b[38;5;241m*\u001b[39m\u001b[38;5;28mself\u001b[39m\u001b[38;5;241m.\u001b[39m_invocation_params,\n\u001b[0;32m    501\u001b[0m     )\n\u001b[0;32m    502\u001b[0m     \u001b[38;5;28;01mif\u001b[39;00m \u001b[38;5;129;01mnot\u001b[39;00m \u001b[38;5;28misinstance\u001b[39m(response, \u001b[38;5;28mdict\u001b[39m):\n\u001b[0;32m    503\u001b[0m         response \u001b[38;5;241m=\u001b[39m response\u001b[38;5;241m.\u001b[39mdict()\n",
      "File \u001b[1;32md:\\Anaconda3\\envs\\myenv\\lib\\site-packages\\langchain_community\\embeddings\\openai.py:120\u001b[0m, in \u001b[0;36membed_with_retry\u001b[1;34m(embeddings, **kwargs)\u001b[0m\n\u001b[0;32m    118\u001b[0m \u001b[38;5;250m\u001b[39m\u001b[38;5;124;03m\"\"\"Use tenacity to retry the embedding call.\"\"\"\u001b[39;00m\n\u001b[0;32m    119\u001b[0m \u001b[38;5;28;01mif\u001b[39;00m is_openai_v1():\n\u001b[1;32m--> 120\u001b[0m     \u001b[38;5;28;01mreturn\u001b[39;00m embeddings\u001b[38;5;241m.\u001b[39mclient\u001b[38;5;241m.\u001b[39mcreate(\u001b[38;5;241m*\u001b[39m\u001b[38;5;241m*\u001b[39mkwargs)\n\u001b[0;32m    121\u001b[0m retry_decorator \u001b[38;5;241m=\u001b[39m _create_retry_decorator(embeddings)\n\u001b[0;32m    123\u001b[0m \u001b[38;5;129m@retry_decorator\u001b[39m\n\u001b[0;32m    124\u001b[0m \u001b[38;5;28;01mdef\u001b[39;00m\u001b[38;5;250m \u001b[39m\u001b[38;5;21m_embed_with_retry\u001b[39m(\u001b[38;5;241m*\u001b[39m\u001b[38;5;241m*\u001b[39mkwargs: Any) \u001b[38;5;241m-\u001b[39m\u001b[38;5;241m>\u001b[39m Any:\n",
      "File \u001b[1;32md:\\Anaconda3\\envs\\myenv\\lib\\site-packages\\openai\\resources\\embeddings.py:132\u001b[0m, in \u001b[0;36mEmbeddings.create\u001b[1;34m(self, input, model, dimensions, encoding_format, user, extra_headers, extra_query, extra_body, timeout)\u001b[0m\n\u001b[0;32m    126\u001b[0m             embedding\u001b[38;5;241m.\u001b[39membedding \u001b[38;5;241m=\u001b[39m np\u001b[38;5;241m.\u001b[39mfrombuffer(  \u001b[38;5;66;03m# type: ignore[no-untyped-call]\u001b[39;00m\n\u001b[0;32m    127\u001b[0m                 base64\u001b[38;5;241m.\u001b[39mb64decode(data), dtype\u001b[38;5;241m=\u001b[39m\u001b[38;5;124m\"\u001b[39m\u001b[38;5;124mfloat32\u001b[39m\u001b[38;5;124m\"\u001b[39m\n\u001b[0;32m    128\u001b[0m             )\u001b[38;5;241m.\u001b[39mtolist()\n\u001b[0;32m    130\u001b[0m     \u001b[38;5;28;01mreturn\u001b[39;00m obj\n\u001b[1;32m--> 132\u001b[0m \u001b[38;5;28;01mreturn\u001b[39;00m \u001b[38;5;28;43mself\u001b[39;49m\u001b[38;5;241;43m.\u001b[39;49m\u001b[43m_post\u001b[49m\u001b[43m(\u001b[49m\n\u001b[0;32m    133\u001b[0m \u001b[43m    \u001b[49m\u001b[38;5;124;43m\"\u001b[39;49m\u001b[38;5;124;43m/embeddings\u001b[39;49m\u001b[38;5;124;43m\"\u001b[39;49m\u001b[43m,\u001b[49m\n\u001b[0;32m    134\u001b[0m \u001b[43m    \u001b[49m\u001b[43mbody\u001b[49m\u001b[38;5;241;43m=\u001b[39;49m\u001b[43mmaybe_transform\u001b[49m\u001b[43m(\u001b[49m\u001b[43mparams\u001b[49m\u001b[43m,\u001b[49m\u001b[43m \u001b[49m\u001b[43membedding_create_params\u001b[49m\u001b[38;5;241;43m.\u001b[39;49m\u001b[43mEmbeddingCreateParams\u001b[49m\u001b[43m)\u001b[49m\u001b[43m,\u001b[49m\n\u001b[0;32m    135\u001b[0m \u001b[43m    \u001b[49m\u001b[43moptions\u001b[49m\u001b[38;5;241;43m=\u001b[39;49m\u001b[43mmake_request_options\u001b[49m\u001b[43m(\u001b[49m\n\u001b[0;32m    136\u001b[0m \u001b[43m        \u001b[49m\u001b[43mextra_headers\u001b[49m\u001b[38;5;241;43m=\u001b[39;49m\u001b[43mextra_headers\u001b[49m\u001b[43m,\u001b[49m\n\u001b[0;32m    137\u001b[0m \u001b[43m        \u001b[49m\u001b[43mextra_query\u001b[49m\u001b[38;5;241;43m=\u001b[39;49m\u001b[43mextra_query\u001b[49m\u001b[43m,\u001b[49m\n\u001b[0;32m    138\u001b[0m \u001b[43m        \u001b[49m\u001b[43mextra_body\u001b[49m\u001b[38;5;241;43m=\u001b[39;49m\u001b[43mextra_body\u001b[49m\u001b[43m,\u001b[49m\n\u001b[0;32m    139\u001b[0m \u001b[43m        \u001b[49m\u001b[43mtimeout\u001b[49m\u001b[38;5;241;43m=\u001b[39;49m\u001b[43mtimeout\u001b[49m\u001b[43m,\u001b[49m\n\u001b[0;32m    140\u001b[0m \u001b[43m        \u001b[49m\u001b[43mpost_parser\u001b[49m\u001b[38;5;241;43m=\u001b[39;49m\u001b[43mparser\u001b[49m\u001b[43m,\u001b[49m\n\u001b[0;32m    141\u001b[0m \u001b[43m    \u001b[49m\u001b[43m)\u001b[49m\u001b[43m,\u001b[49m\n\u001b[0;32m    142\u001b[0m \u001b[43m    \u001b[49m\u001b[43mcast_to\u001b[49m\u001b[38;5;241;43m=\u001b[39;49m\u001b[43mCreateEmbeddingResponse\u001b[49m\u001b[43m,\u001b[49m\n\u001b[0;32m    143\u001b[0m \u001b[43m\u001b[49m\u001b[43m)\u001b[49m\n",
      "File \u001b[1;32md:\\Anaconda3\\envs\\myenv\\lib\\site-packages\\openai\\_base_client.py:1259\u001b[0m, in \u001b[0;36mSyncAPIClient.post\u001b[1;34m(self, path, cast_to, body, options, files, stream, stream_cls)\u001b[0m\n\u001b[0;32m   1245\u001b[0m \u001b[38;5;28;01mdef\u001b[39;00m\u001b[38;5;250m \u001b[39m\u001b[38;5;21mpost\u001b[39m(\n\u001b[0;32m   1246\u001b[0m     \u001b[38;5;28mself\u001b[39m,\n\u001b[0;32m   1247\u001b[0m     path: \u001b[38;5;28mstr\u001b[39m,\n\u001b[1;32m   (...)\u001b[0m\n\u001b[0;32m   1254\u001b[0m     stream_cls: \u001b[38;5;28mtype\u001b[39m[_StreamT] \u001b[38;5;241m|\u001b[39m \u001b[38;5;28;01mNone\u001b[39;00m \u001b[38;5;241m=\u001b[39m \u001b[38;5;28;01mNone\u001b[39;00m,\n\u001b[0;32m   1255\u001b[0m ) \u001b[38;5;241m-\u001b[39m\u001b[38;5;241m>\u001b[39m ResponseT \u001b[38;5;241m|\u001b[39m _StreamT:\n\u001b[0;32m   1256\u001b[0m     opts \u001b[38;5;241m=\u001b[39m FinalRequestOptions\u001b[38;5;241m.\u001b[39mconstruct(\n\u001b[0;32m   1257\u001b[0m         method\u001b[38;5;241m=\u001b[39m\u001b[38;5;124m\"\u001b[39m\u001b[38;5;124mpost\u001b[39m\u001b[38;5;124m\"\u001b[39m, url\u001b[38;5;241m=\u001b[39mpath, json_data\u001b[38;5;241m=\u001b[39mbody, files\u001b[38;5;241m=\u001b[39mto_httpx_files(files), \u001b[38;5;241m*\u001b[39m\u001b[38;5;241m*\u001b[39moptions\n\u001b[0;32m   1258\u001b[0m     )\n\u001b[1;32m-> 1259\u001b[0m     \u001b[38;5;28;01mreturn\u001b[39;00m cast(ResponseT, \u001b[38;5;28;43mself\u001b[39;49m\u001b[38;5;241;43m.\u001b[39;49m\u001b[43mrequest\u001b[49m\u001b[43m(\u001b[49m\u001b[43mcast_to\u001b[49m\u001b[43m,\u001b[49m\u001b[43m \u001b[49m\u001b[43mopts\u001b[49m\u001b[43m,\u001b[49m\u001b[43m \u001b[49m\u001b[43mstream\u001b[49m\u001b[38;5;241;43m=\u001b[39;49m\u001b[43mstream\u001b[49m\u001b[43m,\u001b[49m\u001b[43m \u001b[49m\u001b[43mstream_cls\u001b[49m\u001b[38;5;241;43m=\u001b[39;49m\u001b[43mstream_cls\u001b[49m\u001b[43m)\u001b[49m)\n",
      "File \u001b[1;32md:\\Anaconda3\\envs\\myenv\\lib\\site-packages\\openai\\_base_client.py:1047\u001b[0m, in \u001b[0;36mSyncAPIClient.request\u001b[1;34m(self, cast_to, options, stream, stream_cls)\u001b[0m\n\u001b[0;32m   1044\u001b[0m             err\u001b[38;5;241m.\u001b[39mresponse\u001b[38;5;241m.\u001b[39mread()\n\u001b[0;32m   1046\u001b[0m         log\u001b[38;5;241m.\u001b[39mdebug(\u001b[38;5;124m\"\u001b[39m\u001b[38;5;124mRe-raising status error\u001b[39m\u001b[38;5;124m\"\u001b[39m)\n\u001b[1;32m-> 1047\u001b[0m         \u001b[38;5;28;01mraise\u001b[39;00m \u001b[38;5;28mself\u001b[39m\u001b[38;5;241m.\u001b[39m_make_status_error_from_response(err\u001b[38;5;241m.\u001b[39mresponse) \u001b[38;5;28;01mfrom\u001b[39;00m\u001b[38;5;250m \u001b[39m\u001b[38;5;28;01mNone\u001b[39;00m\n\u001b[0;32m   1049\u001b[0m     \u001b[38;5;28;01mbreak\u001b[39;00m\n\u001b[0;32m   1051\u001b[0m \u001b[38;5;28;01massert\u001b[39;00m response \u001b[38;5;129;01mis\u001b[39;00m \u001b[38;5;129;01mnot\u001b[39;00m \u001b[38;5;28;01mNone\u001b[39;00m, \u001b[38;5;124m\"\u001b[39m\u001b[38;5;124mcould not resolve response (should never happen)\u001b[39m\u001b[38;5;124m\"\u001b[39m\n",
      "\u001b[1;31mRateLimitError\u001b[0m: Error code: 429 - {'error': {'message': 'You exceeded your current quota, please check your plan and billing details. For more information on this error, read the docs: https://platform.openai.com/docs/guides/error-codes/api-errors.', 'type': 'insufficient_quota', 'param': None, 'code': 'insufficient_quota'}}"
     ]
    }
   ],
   "source": [
    "##Vector Embedding and Vector Store\n",
    "from langchain_community.embeddings import OpenAIEmbeddings\n",
    "from langchain_community.vectorstores import Chroma\n",
    "db = Chroma.from_documents(documents[:20],OpenAIEmbeddings())"
   ]
  },
  {
   "cell_type": "markdown",
   "id": "f25e8ec6",
   "metadata": {},
   "source": [
    "Now we can query this Vector Database"
   ]
  },
  {
   "cell_type": "code",
   "execution_count": 13,
   "id": "c7e42684",
   "metadata": {},
   "outputs": [
    {
     "ename": "NameError",
     "evalue": "name 'db' is not defined",
     "output_type": "error",
     "traceback": [
      "\u001b[1;31m---------------------------------------------------------------------------\u001b[0m",
      "\u001b[1;31mNameError\u001b[0m                                 Traceback (most recent call last)",
      "Cell \u001b[1;32mIn[13], line 3\u001b[0m\n\u001b[0;32m      1\u001b[0m \u001b[38;5;66;03m## Vector Database\u001b[39;00m\n\u001b[0;32m      2\u001b[0m query \u001b[38;5;241m=\u001b[39m \u001b[38;5;124m\"\u001b[39m\u001b[38;5;124mWhat is polymorphism?\u001b[39m\u001b[38;5;124m\"\u001b[39m\n\u001b[1;32m----> 3\u001b[0m result \u001b[38;5;241m=\u001b[39m \u001b[43mdb\u001b[49m\u001b[38;5;241m.\u001b[39msimilarity_search(query, k\u001b[38;5;241m=\u001b[39m\u001b[38;5;241m1\u001b[39m)\n\u001b[0;32m      4\u001b[0m \u001b[38;5;28mprint\u001b[39m(result[\u001b[38;5;241m0\u001b[39m]\u001b[38;5;241m.\u001b[39mpage_content)\n",
      "\u001b[1;31mNameError\u001b[0m: name 'db' is not defined"
     ]
    }
   ],
   "source": [
    "## Vector Database\n",
    "query = \"What is polymorphism?\"\n",
    "result = db.similarity_search(query, k=1)\n",
    "print(result[0].page_content)"
   ]
  },
  {
   "cell_type": "code",
   "execution_count": null,
   "id": "257d5931",
   "metadata": {},
   "outputs": [],
   "source": [
    "## FAISS Vector Database\n",
    "from langchain_community.vectorstores import FAISS\n",
    "db1 = FAISS.from_documents(documents[:20],OpenAIEmbeddings())\n",
    "query = \"What is polymorphism?\"\n",
    "result = db1.similarity_search(query, k=1)\n",
    "print(result[0].page_content)\n",
    "\n",
    "\n"
   ]
  }
 ],
 "metadata": {
  "kernelspec": {
   "display_name": "myenv",
   "language": "python",
   "name": "python3"
  },
  "language_info": {
   "codemirror_mode": {
    "name": "ipython",
    "version": 3
   },
   "file_extension": ".py",
   "mimetype": "text/x-python",
   "name": "python",
   "nbconvert_exporter": "python",
   "pygments_lexer": "ipython3",
   "version": "3.10.18"
  }
 },
 "nbformat": 4,
 "nbformat_minor": 5
}
